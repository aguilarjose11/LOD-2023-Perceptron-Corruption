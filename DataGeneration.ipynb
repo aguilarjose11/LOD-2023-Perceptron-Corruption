{
 "cells": [
  {
   "cell_type": "markdown",
   "id": "702ab57f",
   "metadata": {},
   "source": [
    "# Data Generation\n",
    "\n",
    "This notebook helps in the creation of synthetic data."
   ]
  },
  {
   "cell_type": "code",
   "execution_count": 2,
   "id": "e3e81ec2",
   "metadata": {},
   "outputs": [],
   "source": [
    "import numpy as np\n",
    "import pandas as pd\n",
    "import Perceptron.perceptron as pn\n",
    "from Perceptron.data_gen import Universe, separable_regression, data_distribution\n",
    "from sklearn.metrics import accuracy_score, mean_absolute_error, mean_squared_error, zero_one_loss\n",
    "from sklearn.model_selection import StratifiedShuffleSplit\n",
    "from sklearn import datasets\n",
    "import matplotlib.pyplot as plt\n",
    "from collections import defaultdict\n",
    "import pickle\n",
    "import math\n",
    "from tqdm import tqdm\n",
    "from argparse import ArgumentParser, RawTextHelpFormatter \n",
    "import random\n",
    "from scipy.io import arff\n",
    "import matplotlib.pyplot as plt\n",
    "\n",
    "\n",
    "## Data Corruption Experiment\n",
    "from typing import List, Tuple\n",
    "import random"
   ]
  },
  {
   "cell_type": "code",
   "execution_count": 3,
   "id": "33665f17",
   "metadata": {},
   "outputs": [],
   "source": [
    "# Experiment required functions\n",
    "def sample_data(\n",
    "    lows:      List[float],\n",
    "    highs:     List[float],\n",
    "    n_samples: int,\n",
    "    seed:      int=None\n",
    ") -> List[List[int]]:\n",
    "    \"\"\"Sample uniform distribution bounded by lows and highs\n",
    "    \n",
    "        Using a uniform distribution, perform sampling over the \n",
    "    distribution such that the space the distribution is sampling will \n",
    "    be bounded by the given bounds from the lows and highs. Lows and \n",
    "    highs will be arrays that contain the minimum and maximum values \n",
    "    per dimension on the data to be samples. For example, if we have 4 \n",
    "    values in both lows and highs, then, at the time of sampling n_samples\n",
    "    samples we will have n_samples of 4 attributes each: (n_samples, 4).\n",
    "    \"\"\"\n",
    "    \n",
    "    assert len(lows) == len(highs), f\"Non-matching lows and highs: {len(lows) != {len(highs)}}\"\n",
    "    \n",
    "    rng = np.random.default_rng(seed)\n",
    "    data_shape = (n_samples, len(lows)) # See assertion #1\n",
    "    data = rng.uniform(lows, highs, data_shape)\n",
    "    return data\n",
    "\n",
    "# splitting the dataset into bins can be done with: np.split(data, n_buckets)\n",
    "# Recommend shuffling beforehand tho.\n",
    "\n",
    "class Concept:\n",
    "    \"\"\"Label given data\n",
    "    Using a model as truth, label given data.\n",
    "    \"\"\"\n",
    "    def __init__(self, model):\n",
    "        self.model = model\n",
    "        \n",
    "    def __call__(self, X):\n",
    "        return self.model.solve(X)\n",
    "    \n",
    "    \n",
    "class NPolynomial:\n",
    "    \n",
    "    def __init__(self, \n",
    "                 n:    int, \n",
    "                 low:  float=0, \n",
    "                 high: float=1, \n",
    "                 seed: int=42\n",
    "                ):\n",
    "        self.n     = n\n",
    "        self.seed  = seed\n",
    "        self.low   = low\n",
    "        self.high  = high\n",
    "        rng        = np.random.default_rng(seed)\n",
    "        self.coeff = rng.uniform(low, high, (n, 1))\n",
    "        self.exps  = [exp for exp in range(n)[::-1]]\n",
    "        \n",
    "    def solve(self, vals):\n",
    "        var = np.power(vals, self.exps)\n",
    "        activation = np.sign(var @ self.coeff)                                        \n",
    "        activation[activation == 0] = -1\n",
    "        return activation\n",
    "    \n"
   ]
  },
  {
   "cell_type": "markdown",
   "id": "e9cc417f",
   "metadata": {},
   "source": [
    "## Main Generator"
   ]
  },
  {
   "cell_type": "code",
   "execution_count": 4,
   "id": "949e754d",
   "metadata": {},
   "outputs": [],
   "source": [
    "def generate_data(\n",
    "    n_data:       int,\n",
    "    n_dimensions: int, \n",
    "    bounds:       Tuple[float, float],\n",
    "    seed:         int,\n",
    "    separable:    bool,\n",
    "    bias:         bool=True,\n",
    "    save_to:      str=None,\n",
    "    get_concept:   bool=False\n",
    "    ):\n",
    "    \n",
    "    if bias:\n",
    "        lows      = ([bounds[0]] * n_dimensions) + [1]\n",
    "        highs     = ([bounds[1]] * n_dimensions) + [1]\n",
    "    else:\n",
    "        lows      = [bounds[0]] * n_dimensions\n",
    "        highs     = [bounds[1]] * n_dimensions\n",
    "        \n",
    "    assert len(lows) == len(highs), f\"upper and lower bounds do not match: {lows} vs {highs}\"\n",
    "    \n",
    "    data = sample_data(lows, highs, n_samples=n_data, seed=seed)\n",
    "    \n",
    "    if separable:\n",
    "        rng      = np.random.default_rng(seed) # For reproducibility\n",
    "        W        = np.concatenate([ rng.uniform(bounds[0], bounds[1], (n_dimensions + bias, 1)) ])\n",
    "        truth    = pn.PocketPerceptron()\n",
    "        truth.pi = truth.W = W\n",
    "        # Concept is just a wrapper. Do truth.predict for same result\n",
    "        concept  = Concept(truth)\n",
    "    else:\n",
    "        truth    = NPolynomial(n_dimensions + bias, bounds[0], bounds[1], seed)\n",
    "        # Concept is just a wrapper. Do truth.predict for same result\n",
    "        concept  = Concept(truth)\n",
    "        \n",
    "    labels = concept(data)\n",
    "    \n",
    "    if save_to is not None:\n",
    "        cucumber = {\n",
    "            'X': data,\n",
    "            'y': labels\n",
    "        }\n",
    "\n",
    "        with open(save_to, 'wb') as jar:\n",
    "            pickle.dump(cucumber, jar)\n",
    "    if get_concept:\n",
    "        return data, labels, concept\n",
    "    else:\n",
    "        return data, labels, None\n",
    "\n"
   ]
  },
  {
   "cell_type": "markdown",
   "id": "4550e34c",
   "metadata": {},
   "source": [
    "## Separable\n",
    "\n",
    "We will be using 3,000 datapoints. With those, we will make datasets with the following dimensions:\n",
    "\n",
    "- 4\n",
    "- 10\n",
    "- 25\n",
    "- 50\n",
    "- 100"
   ]
  },
  {
   "cell_type": "code",
   "execution_count": 21,
   "id": "5a5188ac",
   "metadata": {},
   "outputs": [
    {
     "name": "stderr",
     "output_type": "stream",
     "text": [
      "100%|██████████████████████████████████████████████████████████████████████████████████████████████████████████████████████████████████████████████████████████████████████| 1/1 [00:00<00:00, 331.25it/s]\n"
     ]
    }
   ],
   "source": [
    "n_data = 3_000\n",
    "dimensions = [100] #[4, 10, 25, 50, 100]\n",
    "bounds = [-10, 10]\n",
    "seed = 42\n",
    "separable = True\n",
    "get_concept = True\n",
    "root_dir = None #'datasets/'\n",
    "\n",
    "\n",
    "for dim in tqdm(dimensions):\n",
    "    \n",
    "    if separable:\n",
    "        data_type = \"lin\"\n",
    "    else:\n",
    "        data_type = \"non\"\n",
    "        \n",
    "    if root_dir is not None:\n",
    "        file_name = root_dir + f\"synthetic_{data_type}_n_{n_data}_dims_{dim}_bounds_{bounds[0]}_{bounds[1]}.pkl\"\n",
    "    else:\n",
    "        file_name = None\n",
    "    \n",
    "    X, y, concept = generate_data(\n",
    "        n_data       = n_data,\n",
    "        n_dimensions = dim,\n",
    "        bounds       = bounds,\n",
    "        seed         = seed,\n",
    "        separable    = separable,\n",
    "        bias         = True,\n",
    "        save_to      = file_name,\n",
    "        get_concept  = get_concept,\n",
    "    )"
   ]
  },
  {
   "cell_type": "code",
   "execution_count": 60,
   "id": "bbfa664a",
   "metadata": {},
   "outputs": [],
   "source": [
    "with open('datasets/syn-lin-temp.pkl', 'rb') as jar:\n",
    "    data = pickle.load(jar)\n",
    "    \n",
    "X, y = data['X'], data['y']\n",
    "\n",
    "sss = StratifiedShuffleSplit(\n",
    "    n_splits=1,\n",
    "    test_size=0.2,\n",
    "    random_state=None #seed + run # This way data is shuffled differently every run!\n",
    ")\n",
    "for train_i, test_i in sss.split(X, y):\n",
    "    train_data, train_labels = X[train_i], y[train_i]\n",
    "    test_data, test_labels = X[test_i], y[test_i]\n"
   ]
  },
  {
   "cell_type": "code",
   "execution_count": 61,
   "id": "a984c953",
   "metadata": {},
   "outputs": [
    {
     "name": "stderr",
     "output_type": "stream",
     "text": [
      "/home/joseaguilar/coding/github/McNair-Diochnos-Research/venv/lib/python3.9/site-packages/sklearn/utils/validation.py:993: DataConversionWarning: A column-vector y was passed when a 1d array was expected. Please change the shape of y to (n_samples, ), for example using ravel().\n",
      "  y = column_or_1d(y, warn=True)\n"
     ]
    },
    {
     "data": {
      "text/plain": [
       "0.9816666666666667"
      ]
     },
     "execution_count": 61,
     "metadata": {},
     "output_type": "execute_result"
    }
   ],
   "source": [
    "from sklearn.linear_model import Perceptron\n",
    "from sklearn.metrics import accuracy_score\n",
    "\n",
    "\n",
    "clf = Perceptron(tol=1e-8, max_iter=3000, alpha=1, n_iter_no_change=25)\n",
    "clf.fit(train_data, train_labels)\n",
    "clf.score(test_data, test_labels)\n",
    "\n",
    "#y_pred = clf.predict(X)\n",
    "#accuracy_score(y, y_pred)\n",
    "\n"
   ]
  },
  {
   "cell_type": "code",
   "execution_count": 24,
   "id": "648bb505",
   "metadata": {},
   "outputs": [
    {
     "data": {
      "text/plain": [
       "1.0"
      ]
     },
     "execution_count": 24,
     "metadata": {},
     "output_type": "execute_result"
    }
   ],
   "source": [
    "y_pred = concept(X)\n",
    "accuracy_score(y, y_pred)\n"
   ]
  },
  {
   "cell_type": "code",
   "execution_count": 25,
   "id": "24f76700",
   "metadata": {},
   "outputs": [
    {
     "data": {
      "text/plain": [
       "array([[ 5.47912097],\n",
       "       [-1.2224312 ],\n",
       "       [ 7.1719584 ],\n",
       "       [ 3.94736058],\n",
       "       [-8.11645304],\n",
       "       [ 9.51244703],\n",
       "       [ 5.22279404],\n",
       "       [ 5.72128611],\n",
       "       [-7.43772735],\n",
       "       [-0.99228124],\n",
       "       [-2.58403952]])"
      ]
     },
     "execution_count": 25,
     "metadata": {},
     "output_type": "execute_result"
    }
   ],
   "source": [
    "concept.model.W"
   ]
  },
  {
   "cell_type": "code",
   "execution_count": 26,
   "id": "f297cf00",
   "metadata": {},
   "outputs": [
    {
     "data": {
      "text/plain": [
       "array([[ 261.6915665 ,  -42.9388564 ,  342.88725188,  184.789882  ,\n",
       "        -379.26908142,  446.31594191,  236.48178486,  270.10011256,\n",
       "        -354.34843852,  -46.23521036,  -62.        ]])"
      ]
     },
     "execution_count": 26,
     "metadata": {},
     "output_type": "execute_result"
    }
   ],
   "source": [
    "clf.coef_"
   ]
  },
  {
   "cell_type": "code",
   "execution_count": 63,
   "id": "2919f5ca",
   "metadata": {},
   "outputs": [],
   "source": [
    "percep = pn.PocketPerceptron(input=101, eta=1, max_iter=2000, patience=25)\n",
    "percep.train(train_data, train_labels)"
   ]
  },
  {
   "cell_type": "code",
   "execution_count": 64,
   "id": "6e075821",
   "metadata": {},
   "outputs": [
    {
     "data": {
      "text/plain": [
       "0.9766666666666667"
      ]
     },
     "execution_count": 64,
     "metadata": {},
     "output_type": "execute_result"
    }
   ],
   "source": [
    "y_pred = percep.solve(test_data)\n",
    "accuracy_score(test_labels, y_pred)"
   ]
  },
  {
   "cell_type": "code",
   "execution_count": 59,
   "id": "f696b667",
   "metadata": {
    "scrolled": true
   },
   "outputs": [
    {
     "data": {
      "text/plain": [
       "array([[ 268.38787325],\n",
       "       [ -89.55147106],\n",
       "       [ 367.19905572],\n",
       "       [ 202.70609947],\n",
       "       [-388.86529533],\n",
       "       [ 453.42233259],\n",
       "       [ 214.84498283],\n",
       "       [ 264.14486329],\n",
       "       [-349.15951202],\n",
       "       [ -87.88993646],\n",
       "       [-138.66117902],\n",
       "       [ 402.92874756],\n",
       "       [ 136.93241654],\n",
       "       [ 323.69319507],\n",
       "       [ -92.55983519],\n",
       "       [-273.70061453],\n",
       "       [  78.39748706],\n",
       "       [-427.46524031],\n",
       "       [ 346.90887002],\n",
       "       [ 128.04719072],\n",
       "       [ 244.22172883],\n",
       "       [-139.15951242],\n",
       "       [ 463.91404515],\n",
       "       [ 366.19169607],\n",
       "       [ 241.52252265],\n",
       "       [-288.80474616],\n",
       "       [ -59.85571646],\n",
       "       [-429.90686791],\n",
       "       [-320.63292965],\n",
       "       [ 171.07439288],\n",
       "       [ 232.02914463],\n",
       "       [ 447.29944563],\n",
       "       [-161.92861482],\n",
       "       [-125.58367679],\n",
       "       [   5.96834566],\n",
       "       [-278.13752348],\n",
       "       [-362.03640434],\n",
       "       [ -49.368269  ],\n",
       "       [-246.85205404],\n",
       "       [ 121.31244361],\n",
       "       [ -74.65911116],\n",
       "       [ 358.55191715],\n",
       "       [ 205.05404734],\n",
       "       [-187.95799233],\n",
       "       [ 303.75997688],\n",
       "       [ 316.0863497 ],\n",
       "       [-118.3259798 ],\n",
       "       [-222.7858167 ],\n",
       "       [ 179.45452793],\n",
       "       [-322.66276946],\n",
       "       [-324.04236079],\n",
       "       [-473.98990405],\n",
       "       [ 285.68962495],\n",
       "       [ 163.29221843],\n",
       "       [ 160.43981837],\n",
       "       [ 285.1799162 ],\n",
       "       [ -72.56577792],\n",
       "       [  53.98574124],\n",
       "       [-327.31615314],\n",
       "       [-390.91388959],\n",
       "       [ 200.96805559],\n",
       "       [  28.86276293],\n",
       "       [  60.0826398 ],\n",
       "       [ 262.80290815],\n",
       "       [ 165.84235315],\n",
       "       [  43.47544279],\n",
       "       [  35.97585049],\n",
       "       [-188.4173453 ],\n",
       "       [-454.63892372],\n",
       "       [ -41.96416541],\n",
       "       [-277.64572036],\n",
       "       [ -84.4099386 ],\n",
       "       [ 316.69488995],\n",
       "       [-254.79840641],\n",
       "       [-435.18247035],\n",
       "       [-234.2177066 ],\n",
       "       [-158.94303097],\n",
       "       [ 153.60319703],\n",
       "       [  76.55817527],\n",
       "       [ 235.19534007],\n",
       "       [ 159.78591172],\n",
       "       [-119.84990968],\n",
       "       [ 312.62655696],\n",
       "       [-352.44102096],\n",
       "       [-419.46648091],\n",
       "       [-411.47263081],\n",
       "       [ 184.75996112],\n",
       "       [ -45.09118718],\n",
       "       [-316.32632202],\n",
       "       [  -0.85360869],\n",
       "       [-341.38054897],\n",
       "       [ 181.90684376],\n",
       "       [ -86.5329597 ],\n",
       "       [ -84.39168249],\n",
       "       [-183.61098285],\n",
       "       [ 105.03408884],\n",
       "       [-129.37220581],\n",
       "       [-388.86724881],\n",
       "       [-392.59972992],\n",
       "       [ 454.90144787],\n",
       "       [ 349.29402718]])"
      ]
     },
     "execution_count": 59,
     "metadata": {},
     "output_type": "execute_result"
    }
   ],
   "source": [
    "percep.W"
   ]
  },
  {
   "cell_type": "code",
   "execution_count": 69,
   "id": "ae62436d",
   "metadata": {},
   "outputs": [
    {
     "data": {
      "text/plain": [
       "<AxesSubplot:xlabel='0', ylabel='1'>"
      ]
     },
     "execution_count": 69,
     "metadata": {},
     "output_type": "execute_result"
    },
    {
     "data": {
      "image/png": "[encoded data removed]",
      "text/plain": [
       "<Figure size 432x288 with 1 Axes>"
      ]
     },
     "metadata": {
      "needs_background": "light"
     },
     "output_type": "display_data"
    }
   ],
   "source": [
    "pd.DataFrame([*X]).plot.scatter(0, 1)"
   ]
  },
  {
   "cell_type": "markdown",
   "id": "2414af0a",
   "metadata": {},
   "source": [
    "## Skin Dataset"
   ]
  },
  {
   "cell_type": "code",
   "execution_count": 23,
   "id": "9ae8b2bb",
   "metadata": {},
   "outputs": [],
   "source": [
    "skin = pd.read_csv('./datasets/skinNoSkin.csv')"
   ]
  },
  {
   "cell_type": "code",
   "execution_count": 24,
   "id": "31661442",
   "metadata": {},
   "outputs": [
    {
     "data": {
      "text/html": [
       "<div>\n",
       "<style scoped>\n",
       "    .dataframe tbody tr th:only-of-type {\n",
       "        vertical-align: middle;\n",
       "    }\n",
       "\n",
       "    .dataframe tbody tr th {\n",
       "        vertical-align: top;\n",
       "    }\n",
       "\n",
       "    .dataframe thead th {\n",
       "        text-align: right;\n",
       "    }\n",
       "</style>\n",
       "<table border=\"1\" class=\"dataframe\">\n",
       "  <thead>\n",
       "    <tr style=\"text-align: right;\">\n",
       "      <th></th>\n",
       "      <th>V1</th>\n",
       "      <th>V2</th>\n",
       "      <th>V3</th>\n",
       "      <th>Class</th>\n",
       "    </tr>\n",
       "  </thead>\n",
       "  <tbody>\n",
       "    <tr>\n",
       "      <th>0</th>\n",
       "      <td>74.0</td>\n",
       "      <td>85.0</td>\n",
       "      <td>123.0</td>\n",
       "      <td>1</td>\n",
       "    </tr>\n",
       "    <tr>\n",
       "      <th>1</th>\n",
       "      <td>73.0</td>\n",
       "      <td>84.0</td>\n",
       "      <td>122.0</td>\n",
       "      <td>1</td>\n",
       "    </tr>\n",
       "    <tr>\n",
       "      <th>2</th>\n",
       "      <td>72.0</td>\n",
       "      <td>83.0</td>\n",
       "      <td>121.0</td>\n",
       "      <td>1</td>\n",
       "    </tr>\n",
       "    <tr>\n",
       "      <th>3</th>\n",
       "      <td>70.0</td>\n",
       "      <td>81.0</td>\n",
       "      <td>119.0</td>\n",
       "      <td>1</td>\n",
       "    </tr>\n",
       "    <tr>\n",
       "      <th>4</th>\n",
       "      <td>70.0</td>\n",
       "      <td>81.0</td>\n",
       "      <td>119.0</td>\n",
       "      <td>1</td>\n",
       "    </tr>\n",
       "    <tr>\n",
       "      <th>...</th>\n",
       "      <td>...</td>\n",
       "      <td>...</td>\n",
       "      <td>...</td>\n",
       "      <td>...</td>\n",
       "    </tr>\n",
       "    <tr>\n",
       "      <th>245052</th>\n",
       "      <td>163.0</td>\n",
       "      <td>162.0</td>\n",
       "      <td>112.0</td>\n",
       "      <td>2</td>\n",
       "    </tr>\n",
       "    <tr>\n",
       "      <th>245053</th>\n",
       "      <td>163.0</td>\n",
       "      <td>162.0</td>\n",
       "      <td>112.0</td>\n",
       "      <td>2</td>\n",
       "    </tr>\n",
       "    <tr>\n",
       "      <th>245054</th>\n",
       "      <td>163.0</td>\n",
       "      <td>162.0</td>\n",
       "      <td>112.0</td>\n",
       "      <td>2</td>\n",
       "    </tr>\n",
       "    <tr>\n",
       "      <th>245055</th>\n",
       "      <td>163.0</td>\n",
       "      <td>162.0</td>\n",
       "      <td>112.0</td>\n",
       "      <td>2</td>\n",
       "    </tr>\n",
       "    <tr>\n",
       "      <th>245056</th>\n",
       "      <td>255.0</td>\n",
       "      <td>255.0</td>\n",
       "      <td>255.0</td>\n",
       "      <td>2</td>\n",
       "    </tr>\n",
       "  </tbody>\n",
       "</table>\n",
       "<p>245057 rows × 4 columns</p>\n",
       "</div>"
      ],
      "text/plain": [
       "           V1     V2     V3  Class\n",
       "0        74.0   85.0  123.0      1\n",
       "1        73.0   84.0  122.0      1\n",
       "2        72.0   83.0  121.0      1\n",
       "3        70.0   81.0  119.0      1\n",
       "4        70.0   81.0  119.0      1\n",
       "...       ...    ...    ...    ...\n",
       "245052  163.0  162.0  112.0      2\n",
       "245053  163.0  162.0  112.0      2\n",
       "245054  163.0  162.0  112.0      2\n",
       "245055  163.0  162.0  112.0      2\n",
       "245056  255.0  255.0  255.0      2\n",
       "\n",
       "[245057 rows x 4 columns]"
      ]
     },
     "execution_count": 24,
     "metadata": {},
     "output_type": "execute_result"
    }
   ],
   "source": [
    "skin"
   ]
  },
  {
   "cell_type": "code",
   "execution_count": 25,
   "id": "6f0b727f",
   "metadata": {},
   "outputs": [],
   "source": [
    "X, y = skin.drop('Class', axis=1), skin['Class']\n",
    "\n",
    "\n",
    "y.replace(1, -1, inplace=True)\n",
    "y.replace(2, 1, inplace=True)\n",
    "\n",
    "\n",
    "sss = StratifiedShuffleSplit(\n",
    "    n_splits=1,\n",
    "    train_size=3_000,\n",
    "    random_state=None #seed + run # This way data is shuffled differently every run!\n",
    ")\n",
    "for train_i, test_i in sss.split(X, y):\n",
    "    train_data, train_labels = X.iloc[train_i], y.iloc[train_i]\n",
    "    test_data, test_labels = X.iloc[test_i], y.iloc[test_i]"
   ]
  },
  {
   "cell_type": "code",
   "execution_count": 27,
   "id": "4a198446",
   "metadata": {},
   "outputs": [
    {
     "data": {
      "text/plain": [
       " 1    2377\n",
       "-1     623\n",
       "Name: Class, dtype: int64"
      ]
     },
     "execution_count": 27,
     "metadata": {},
     "output_type": "execute_result"
    }
   ],
   "source": [
    "train_labels.value_counts()"
   ]
  },
  {
   "cell_type": "code",
   "execution_count": 29,
   "id": "85628539",
   "metadata": {},
   "outputs": [],
   "source": [
    "train_data.reset_index(drop=True, inplace=True)\n",
    "train_labels.reset_index(drop=True, inplace=True)\n",
    "\n",
    "cucumber = {\n",
    "    'X': train_data,\n",
    "    'y': train_labels,\n",
    "}\n",
    "save_to = f'datasets/3000_skin.pkl'\n",
    "with open(save_to, 'wb') as jar:\n",
    "    pickle.dump(cucumber, jar)"
   ]
  },
  {
   "cell_type": "code",
   "execution_count": 16,
   "id": "55f10f0b",
   "metadata": {},
   "outputs": [],
   "source": [
    "with open('datasets/3000_skin.pkl', 'rb') as pkl:\n",
    "    data = pickle.load(pkl)"
   ]
  },
  {
   "cell_type": "code",
   "execution_count": 18,
   "id": "dcd79133",
   "metadata": {},
   "outputs": [
    {
     "data": {
      "text/html": [
       "<div>\n",
       "<style scoped>\n",
       "    .dataframe tbody tr th:only-of-type {\n",
       "        vertical-align: middle;\n",
       "    }\n",
       "\n",
       "    .dataframe tbody tr th {\n",
       "        vertical-align: top;\n",
       "    }\n",
       "\n",
       "    .dataframe thead th {\n",
       "        text-align: right;\n",
       "    }\n",
       "</style>\n",
       "<table border=\"1\" class=\"dataframe\">\n",
       "  <thead>\n",
       "    <tr style=\"text-align: right;\">\n",
       "      <th></th>\n",
       "      <th>V1</th>\n",
       "      <th>V2</th>\n",
       "      <th>V3</th>\n",
       "    </tr>\n",
       "  </thead>\n",
       "  <tbody>\n",
       "    <tr>\n",
       "      <th>0</th>\n",
       "      <td>151.0</td>\n",
       "      <td>152.0</td>\n",
       "      <td>102.0</td>\n",
       "    </tr>\n",
       "    <tr>\n",
       "      <th>1</th>\n",
       "      <td>201.0</td>\n",
       "      <td>200.0</td>\n",
       "      <td>162.0</td>\n",
       "    </tr>\n",
       "    <tr>\n",
       "      <th>2</th>\n",
       "      <td>182.0</td>\n",
       "      <td>178.0</td>\n",
       "      <td>137.0</td>\n",
       "    </tr>\n",
       "    <tr>\n",
       "      <th>3</th>\n",
       "      <td>42.0</td>\n",
       "      <td>40.0</td>\n",
       "      <td>9.0</td>\n",
       "    </tr>\n",
       "    <tr>\n",
       "      <th>4</th>\n",
       "      <td>176.0</td>\n",
       "      <td>174.0</td>\n",
       "      <td>126.0</td>\n",
       "    </tr>\n",
       "    <tr>\n",
       "      <th>...</th>\n",
       "      <td>...</td>\n",
       "      <td>...</td>\n",
       "      <td>...</td>\n",
       "    </tr>\n",
       "    <tr>\n",
       "      <th>2995</th>\n",
       "      <td>174.0</td>\n",
       "      <td>172.0</td>\n",
       "      <td>124.0</td>\n",
       "    </tr>\n",
       "    <tr>\n",
       "      <th>2996</th>\n",
       "      <td>4.0</td>\n",
       "      <td>1.0</td>\n",
       "      <td>181.0</td>\n",
       "    </tr>\n",
       "    <tr>\n",
       "      <th>2997</th>\n",
       "      <td>163.0</td>\n",
       "      <td>163.0</td>\n",
       "      <td>115.0</td>\n",
       "    </tr>\n",
       "    <tr>\n",
       "      <th>2998</th>\n",
       "      <td>56.0</td>\n",
       "      <td>116.0</td>\n",
       "      <td>182.0</td>\n",
       "    </tr>\n",
       "    <tr>\n",
       "      <th>2999</th>\n",
       "      <td>128.0</td>\n",
       "      <td>128.0</td>\n",
       "      <td>128.0</td>\n",
       "    </tr>\n",
       "  </tbody>\n",
       "</table>\n",
       "<p>3000 rows × 3 columns</p>\n",
       "</div>"
      ],
      "text/plain": [
       "         V1     V2     V3\n",
       "0     151.0  152.0  102.0\n",
       "1     201.0  200.0  162.0\n",
       "2     182.0  178.0  137.0\n",
       "3      42.0   40.0    9.0\n",
       "4     176.0  174.0  126.0\n",
       "...     ...    ...    ...\n",
       "2995  174.0  172.0  124.0\n",
       "2996    4.0    1.0  181.0\n",
       "2997  163.0  163.0  115.0\n",
       "2998   56.0  116.0  182.0\n",
       "2999  128.0  128.0  128.0\n",
       "\n",
       "[3000 rows x 3 columns]"
      ]
     },
     "execution_count": 18,
     "metadata": {},
     "output_type": "execute_result"
    }
   ],
   "source": [
    "data['X']"
   ]
  },
  {
   "cell_type": "code",
   "execution_count": null,
   "id": "9b8adb95",
   "metadata": {},
   "outputs": [],
   "source": []
  }
 ],
 "metadata": {
  "kernelspec": {
   "display_name": "Python 3 (ipykernel)",
   "language": "python",
   "name": "python3"
  },
  "language_info": {
   "codemirror_mode": {
    "name": "ipython",
    "version": 3
   },
   "file_extension": ".py",
   "mimetype": "text/x-python",
   "name": "python",
   "nbconvert_exporter": "python",
   "pygments_lexer": "ipython3",
   "version": "3.8.16"
  }
 },
 "nbformat": 4,
 "nbformat_minor": 5
}
