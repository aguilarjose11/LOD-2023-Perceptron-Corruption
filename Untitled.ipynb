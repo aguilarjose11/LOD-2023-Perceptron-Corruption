{
 "cells": [
  {
   "cell_type": "code",
   "execution_count": 1,
   "id": "1ec8eff0",
   "metadata": {},
   "outputs": [],
   "source": [
    "import numpy as np\n",
    "import pandas as pd\n",
    "import Perceptron.perceptron as pn\n",
    "from Perceptron.data_gen import Universe, separable_regression\n",
    "from sklearn.metrics import accuracy_score"
   ]
  },
  {
   "cell_type": "code",
   "execution_count": 2,
   "id": "dbac9dae",
   "metadata": {},
   "outputs": [],
   "source": [
    "gen = pn.PocketPerceptron(input=3) # No innate bias included!"
   ]
  },
  {
   "cell_type": "code",
   "execution_count": 3,
   "id": "2af61178",
   "metadata": {},
   "outputs": [],
   "source": [
    "gen.W = np.array([[1], [-1], [1]])"
   ]
  },
  {
   "cell_type": "code",
   "execution_count": 4,
   "id": "05bb66b5",
   "metadata": {},
   "outputs": [],
   "source": [
    "u = Universe(((1, 8), (-10, 10), (1, 1)), (10, 10, 1))"
   ]
  },
  {
   "cell_type": "code",
   "execution_count": 5,
   "id": "5529023d",
   "metadata": {
    "scrolled": true
   },
   "outputs": [],
   "source": [
    "data = u.gen()"
   ]
  },
  {
   "cell_type": "code",
   "execution_count": 6,
   "id": "6611a763",
   "metadata": {},
   "outputs": [],
   "source": [
    "X, y = separable_regression(np.array([[1], [-1], [1]]), ((1, 8), (-10, 10), (1, 1)), (10, 10, 1))"
   ]
  },
  {
   "cell_type": "code",
   "execution_count": 7,
   "id": "9d02f402",
   "metadata": {
    "scrolled": true
   },
   "outputs": [],
   "source": [
    "model = pn.PocketPerceptron(input=X.shape[1])"
   ]
  },
  {
   "cell_type": "code",
   "execution_count": 8,
   "id": "96f3000e",
   "metadata": {
    "scrolled": true
   },
   "outputs": [
    {
     "data": {
      "text/plain": [
       "array([[-1.],\n",
       "       [-1.],\n",
       "       [-1.],\n",
       "       [-1.],\n",
       "       [ 1.],\n",
       "       [ 1.],\n",
       "       [ 1.],\n",
       "       [ 1.],\n",
       "       [ 1.],\n",
       "       [ 1.],\n",
       "       [-1.],\n",
       "       [-1.],\n",
       "       [-1.],\n",
       "       [-1.],\n",
       "       [ 1.],\n",
       "       [ 1.],\n",
       "       [ 1.],\n",
       "       [ 1.],\n",
       "       [ 1.],\n",
       "       [ 1.],\n",
       "       [-1.],\n",
       "       [-1.],\n",
       "       [-1.],\n",
       "       [ 1.],\n",
       "       [ 1.],\n",
       "       [ 1.],\n",
       "       [ 1.],\n",
       "       [ 1.],\n",
       "       [ 1.],\n",
       "       [ 1.],\n",
       "       [-1.],\n",
       "       [-1.],\n",
       "       [-1.],\n",
       "       [ 1.],\n",
       "       [ 1.],\n",
       "       [ 1.],\n",
       "       [ 1.],\n",
       "       [ 1.],\n",
       "       [ 1.],\n",
       "       [ 1.],\n",
       "       [-1.],\n",
       "       [-1.],\n",
       "       [-1.],\n",
       "       [ 1.],\n",
       "       [ 1.],\n",
       "       [ 1.],\n",
       "       [ 1.],\n",
       "       [ 1.],\n",
       "       [ 1.],\n",
       "       [ 1.],\n",
       "       [-1.],\n",
       "       [-1.],\n",
       "       [ 1.],\n",
       "       [ 1.],\n",
       "       [ 1.],\n",
       "       [ 1.],\n",
       "       [ 1.],\n",
       "       [ 1.],\n",
       "       [ 1.],\n",
       "       [ 1.],\n",
       "       [-1.],\n",
       "       [-1.],\n",
       "       [ 1.],\n",
       "       [ 1.],\n",
       "       [ 1.],\n",
       "       [ 1.],\n",
       "       [ 1.],\n",
       "       [ 1.],\n",
       "       [ 1.],\n",
       "       [ 1.],\n",
       "       [-1.],\n",
       "       [-1.],\n",
       "       [ 1.],\n",
       "       [ 1.],\n",
       "       [ 1.],\n",
       "       [ 1.],\n",
       "       [ 1.],\n",
       "       [ 1.],\n",
       "       [ 1.],\n",
       "       [ 1.],\n",
       "       [-1.],\n",
       "       [ 1.],\n",
       "       [ 1.],\n",
       "       [ 1.],\n",
       "       [ 1.],\n",
       "       [ 1.],\n",
       "       [ 1.],\n",
       "       [ 1.],\n",
       "       [ 1.],\n",
       "       [ 1.],\n",
       "       [-1.],\n",
       "       [ 1.],\n",
       "       [ 1.],\n",
       "       [ 1.],\n",
       "       [ 1.],\n",
       "       [ 1.],\n",
       "       [ 1.],\n",
       "       [ 1.],\n",
       "       [ 1.],\n",
       "       [ 1.]])"
      ]
     },
     "execution_count": 8,
     "metadata": {},
     "output_type": "execute_result"
    }
   ],
   "source": [
    "model.solve(X)"
   ]
  },
  {
   "cell_type": "code",
   "execution_count": 9,
   "id": "398259de",
   "metadata": {},
   "outputs": [],
   "source": [
    "model.train(X, y)"
   ]
  },
  {
   "cell_type": "code",
   "execution_count": 10,
   "id": "4448e312",
   "metadata": {
    "scrolled": true
   },
   "outputs": [
    {
     "ename": "ValueError",
     "evalue": "too many values to unpack (expected 2)",
     "output_type": "error",
     "traceback": [
      "\u001b[0;31m---------------------------------------------------------------------------\u001b[0m",
      "\u001b[0;31mValueError\u001b[0m                                Traceback (most recent call last)",
      "\u001b[0;32m/tmp/ipykernel_27599/1754313945.py\u001b[0m in \u001b[0;36m<module>\u001b[0;34m\u001b[0m\n\u001b[0;32m----> 1\u001b[0;31m \u001b[0mpn\u001b[0m\u001b[0;34m.\u001b[0m\u001b[0mtrue_error\u001b[0m\u001b[0;34m(\u001b[0m\u001b[0mdist\u001b[0m\u001b[0;34m=\u001b[0m\u001b[0;34m(\u001b[0m\u001b[0mX\u001b[0m\u001b[0;34m,\u001b[0m \u001b[0my\u001b[0m\u001b[0;34m)\u001b[0m\u001b[0;34m,\u001b[0m \u001b[0mmodel\u001b[0m\u001b[0;34m=\u001b[0m\u001b[0mmodel\u001b[0m\u001b[0;34m)\u001b[0m\u001b[0;34m\u001b[0m\u001b[0;34m\u001b[0m\u001b[0m\n\u001b[0m",
      "\u001b[0;32m~/github/McNair-Diochnos-Research/Perceptron/perceptron.py\u001b[0m in \u001b[0;36mtrue_error\u001b[0;34m(dist, model)\u001b[0m\n\u001b[1;32m    129\u001b[0m \u001b[0;32mdef\u001b[0m \u001b[0mtrue_error\u001b[0m\u001b[0;34m(\u001b[0m\u001b[0mdist\u001b[0m\u001b[0;34m:\u001b[0m \u001b[0mTuple\u001b[0m\u001b[0;34m[\u001b[0m\u001b[0mList\u001b[0m\u001b[0;34m,\u001b[0m \u001b[0mList\u001b[0m\u001b[0;34m]\u001b[0m\u001b[0;34m,\u001b[0m \u001b[0mmodel\u001b[0m\u001b[0;34m)\u001b[0m\u001b[0;34m:\u001b[0m\u001b[0;34m\u001b[0m\u001b[0;34m\u001b[0m\u001b[0m\n\u001b[1;32m    130\u001b[0m     \u001b[0mmiss\u001b[0m \u001b[0;34m=\u001b[0m \u001b[0;36m0\u001b[0m\u001b[0;34m\u001b[0m\u001b[0;34m\u001b[0m\u001b[0m\n\u001b[0;32m--> 131\u001b[0;31m     \u001b[0;32mfor\u001b[0m \u001b[0mE\u001b[0m\u001b[0;34m,\u001b[0m \u001b[0mC\u001b[0m \u001b[0;32min\u001b[0m \u001b[0mdist\u001b[0m\u001b[0;34m:\u001b[0m\u001b[0;34m\u001b[0m\u001b[0;34m\u001b[0m\u001b[0m\n\u001b[0m\u001b[1;32m    132\u001b[0m         \u001b[0my_pred\u001b[0m \u001b[0;34m=\u001b[0m \u001b[0mmodel\u001b[0m\u001b[0;34m.\u001b[0m\u001b[0msolve\u001b[0m\u001b[0;34m(\u001b[0m\u001b[0mE\u001b[0m\u001b[0;34m)\u001b[0m\u001b[0;34m\u001b[0m\u001b[0;34m\u001b[0m\u001b[0m\n\u001b[1;32m    133\u001b[0m         \u001b[0;32mif\u001b[0m \u001b[0my_pred\u001b[0m \u001b[0;34m!=\u001b[0m \u001b[0mC\u001b[0m\u001b[0;34m:\u001b[0m\u001b[0;34m\u001b[0m\u001b[0;34m\u001b[0m\u001b[0m\n",
      "\u001b[0;31mValueError\u001b[0m: too many values to unpack (expected 2)"
     ]
    }
   ],
   "source": [
    "pn.true_error(dist=(X, y), model=model)"
   ]
  },
  {
   "cell_type": "code",
   "execution_count": null,
   "id": "036e2ab2",
   "metadata": {
    "scrolled": true
   },
   "outputs": [],
   "source": [
    "help(pn.PocketPerceptron)"
   ]
  },
  {
   "cell_type": "markdown",
   "id": "2846c640",
   "metadata": {},
   "source": [
    "# Data Corruption Experiment"
   ]
  },
  {
   "cell_type": "code",
   "execution_count": 11,
   "id": "bac8b1cb",
   "metadata": {},
   "outputs": [],
   "source": [
    "from typing import List, Tuple\n",
    "import random\n",
    "\n",
    "def corrupt_data(\n",
    "    universe_len:  int,\n",
    "    training_size: int,\n",
    "    testing_size:  int,\n",
    "    buckets:       int,\n",
    "    )->Tuple[List[int], List[int]]:\n",
    "    \"\"\"Create uniform corruption buckets.\n",
    "    \n",
    "    The function shall pick random indices within the entire \n",
    "    data universe. The number of indices will be the same as\n",
    "    abscribed in the call of the function. Then, the indices\n",
    "    will be split into buckets of several sizes. These shall\n",
    "    be returned.\n",
    "    \"\"\"\n",
    "    \n",
    "    indices    = np.array(random.sample(range(universe_len), training_size + testing_size))\n",
    "    training   = indices[:training_size]\n",
    "    testing    = indices[training_size:]\n",
    "    assert len(testing) == testing_size\n",
    "    \n",
    "    bucket_len = int(len(training) / buckets)\n",
    "    \n",
    "    return np.array([training[bucket_len*i:bucket_len*(i+1)] for i in range(buckets)]), testing"
   ]
  },
  {
   "cell_type": "code",
   "execution_count": 12,
   "id": "670861e4",
   "metadata": {},
   "outputs": [
    {
     "data": {
      "text/plain": [
       "(array([[41, 38, 36, 19, 32],\n",
       "        [50, 84,  9,  1, 98],\n",
       "        [58,  3, 48, 61, 40],\n",
       "        [64,  7, 51,  4, 33],\n",
       "        [34, 83, 72, 53, 55],\n",
       "        [ 2, 35,  6, 43, 77],\n",
       "        [91, 79, 82, 24, 97],\n",
       "        [30, 67, 29, 74, 18],\n",
       "        [21, 56, 10, 99, 86],\n",
       "        [92, 42, 69,  0, 25]]),\n",
       " array([80, 62, 20, 11, 22, 59, 14, 81, 75, 12]))"
      ]
     },
     "execution_count": 12,
     "metadata": {},
     "output_type": "execute_result"
    }
   ],
   "source": [
    "corrupt_data(len(X), 50, 10, 10)"
   ]
  },
  {
   "cell_type": "code",
   "execution_count": 14,
   "id": "1096f94e",
   "metadata": {
    "scrolled": true
   },
   "outputs": [
    {
     "name": "stdout",
     "output_type": "stream",
     "text": [
      "Start of run 0.\n",
      "Training with 1 buckets -- 50\n",
      "Training with 2 buckets -- 100\n",
      "Training with 3 buckets -- 150\n",
      "Training with 4 buckets -- 200\n",
      "Training with 5 buckets -- 250\n",
      "Training with 6 buckets -- 300\n",
      "Training with 7 buckets -- 350\n",
      "Maximum iterations reached: No convergence. Ignore if data is non-separable\n",
      "Training with 8 buckets -- 400\n",
      "Training with 9 buckets -- 450\n",
      "Maximum iterations reached: No convergence. Ignore if data is non-separable\n",
      "Start of run 1.\n",
      "Training with 1 buckets -- 50\n",
      "Training with 2 buckets -- 100\n",
      "Training with 3 buckets -- 150\n",
      "Training with 4 buckets -- 200\n",
      "Training with 5 buckets -- 250\n",
      "Training with 6 buckets -- 300\n",
      "Training with 7 buckets -- 350\n",
      "Training with 8 buckets -- 400\n",
      "Maximum iterations reached: No convergence. Ignore if data is non-separable\n",
      "Training with 9 buckets -- 450\n",
      "Start of run 2.\n",
      "Training with 1 buckets -- 50\n",
      "Training with 2 buckets -- 100\n",
      "Training with 3 buckets -- 150\n",
      "Training with 4 buckets -- 200\n",
      "Training with 5 buckets -- 250\n",
      "Training with 6 buckets -- 300\n",
      "Training with 7 buckets -- 350\n",
      "Training with 8 buckets -- 400\n",
      "Maximum iterations reached: No convergence. Ignore if data is non-separable\n",
      "Training with 9 buckets -- 450\n",
      "Maximum iterations reached: No convergence. Ignore if data is non-separable\n",
      "Start of run 3.\n",
      "Training with 1 buckets -- 50\n",
      "Training with 2 buckets -- 100\n",
      "Training with 3 buckets -- 150\n",
      "Maximum iterations reached: No convergence. Ignore if data is non-separable\n",
      "Training with 4 buckets -- 200\n",
      "Training with 5 buckets -- 250\n",
      "Training with 6 buckets -- 300\n",
      "Training with 7 buckets -- 350\n",
      "Training with 8 buckets -- 400\n",
      "Training with 9 buckets -- 450\n",
      "Start of run 4.\n",
      "Training with 1 buckets -- 50\n",
      "Training with 2 buckets -- 100\n",
      "Training with 3 buckets -- 150\n",
      "Training with 4 buckets -- 200\n",
      "Training with 5 buckets -- 250\n",
      "Training with 6 buckets -- 300\n",
      "Training with 7 buckets -- 350\n",
      "Training with 8 buckets -- 400\n",
      "Training with 9 buckets -- 450\n",
      "Maximum iterations reached: No convergence. Ignore if data is non-separable\n",
      "Start of run 5.\n",
      "Training with 1 buckets -- 50\n",
      "Training with 2 buckets -- 100\n",
      "Training with 3 buckets -- 150\n",
      "Training with 4 buckets -- 200\n",
      "Training with 5 buckets -- 250\n",
      "Training with 6 buckets -- 300\n",
      "Maximum iterations reached: No convergence. Ignore if data is non-separable\n",
      "Training with 7 buckets -- 350\n",
      "Training with 8 buckets -- 400\n",
      "Training with 9 buckets -- 450\n",
      "Maximum iterations reached: No convergence. Ignore if data is non-separable\n",
      "Start of run 6.\n",
      "Training with 1 buckets -- 50\n",
      "Training with 2 buckets -- 100\n",
      "Maximum iterations reached: No convergence. Ignore if data is non-separable\n",
      "Training with 3 buckets -- 150\n",
      "Maximum iterations reached: No convergence. Ignore if data is non-separable\n",
      "Training with 4 buckets -- 200\n",
      "Training with 5 buckets -- 250\n",
      "Training with 6 buckets -- 300\n",
      "Training with 7 buckets -- 350\n",
      "Training with 8 buckets -- 400\n",
      "Training with 9 buckets -- 450\n",
      "Start of run 7.\n",
      "Training with 1 buckets -- 50\n",
      "Training with 2 buckets -- 100\n",
      "Training with 3 buckets -- 150\n",
      "Training with 4 buckets -- 200\n",
      "Maximum iterations reached: No convergence. Ignore if data is non-separable\n",
      "Training with 5 buckets -- 250\n",
      "Training with 6 buckets -- 300\n",
      "Maximum iterations reached: No convergence. Ignore if data is non-separable\n",
      "Training with 7 buckets -- 350\n",
      "Maximum iterations reached: No convergence. Ignore if data is non-separable\n",
      "Training with 8 buckets -- 400\n",
      "Maximum iterations reached: No convergence. Ignore if data is non-separable\n",
      "Training with 9 buckets -- 450\n",
      "Start of run 8.\n",
      "Training with 1 buckets -- 50\n",
      "Training with 2 buckets -- 100\n",
      "Training with 3 buckets -- 150\n",
      "Training with 4 buckets -- 200\n",
      "Training with 5 buckets -- 250\n",
      "Training with 6 buckets -- 300\n",
      "Maximum iterations reached: No convergence. Ignore if data is non-separable\n",
      "Training with 7 buckets -- 350\n",
      "Training with 8 buckets -- 400\n",
      "Maximum iterations reached: No convergence. Ignore if data is non-separable\n",
      "Training with 9 buckets -- 450\n",
      "Start of run 9.\n",
      "Training with 1 buckets -- 50\n",
      "Training with 2 buckets -- 100\n",
      "Training with 3 buckets -- 150\n",
      "Training with 4 buckets -- 200\n",
      "Training with 5 buckets -- 250\n",
      "Training with 6 buckets -- 300\n",
      "Maximum iterations reached: No convergence. Ignore if data is non-separable\n",
      "Training with 7 buckets -- 350\n",
      "Maximum iterations reached: No convergence. Ignore if data is non-separable\n",
      "Training with 8 buckets -- 400\n",
      "Maximum iterations reached: No convergence. Ignore if data is non-separable\n",
      "Training with 9 buckets -- 450\n"
     ]
    }
   ],
   "source": [
    "# Third element in tuple is for bias\n",
    "#u = Universe(((-10, 10), (-10, 10), (1, 1)), (1000, 1000, 1))\n",
    "#data = u.gen()\n",
    "X, y = separable_regression(\n",
    "    weights  =np.array([[13.5], [-4.3], [6.4]]), \n",
    "    dim_dist =((-10, 10), (-10, 10), (1, 1)), \n",
    "    dim_step =(100, 100, 1))\n",
    "# Parameters for dataset creation\n",
    "training_size =600\n",
    "testing_size  =200\n",
    "n_buckets     = 25\n",
    "# Pocket Algorithm hyper-parameters\n",
    "max_iter      = 25\n",
    "eta           = 1\n",
    "\n",
    "# Obtain indices\n",
    "train, test   = corrupt_data(\n",
    "    universe_len=len(y),\n",
    "    training_size=training_size,\n",
    "    testing_size=testing_size,\n",
    "    buckets=n_buckets)\n",
    "\n",
    "# Perform corruption\n",
    "n_runs = 50\n",
    "exp_data = dict()\n",
    "# Experiment\n",
    "for run in range(n_runs):\n",
    "    print(f\"Start of run {run}.\")\n",
    "    #import pdb; pdb.set_trace()\n",
    "    # shuffle bin indices\n",
    "    bucket_index = random.sample(range(n_buckets), n_buckets)\n",
    "    # begin bining\n",
    "    empirical_score = []\n",
    "    #true_score      = []\n",
    "    for bins in range(1, n_buckets):\n",
    "        \n",
    "        # Create model; No innate bias included!\n",
    "        model = pn.PocketPerceptron(\n",
    "            input=3, \n",
    "            eta=eta, \n",
    "            max_iter=max_iter\n",
    "        ) \n",
    "        # Grab training data\n",
    "        m = np.concatenate(X[train[bucket_index[:bins]]])\n",
    "        print(f\"Training with {bins} buckets -- {len(m)}\")\n",
    "        # Train model\n",
    "        model.train(m, np.concatenate(y[train[bucket_index[:bins]]]))\n",
    "        # Store empirical and \"true\"\n",
    "        pred = model.solve(X[test])\n",
    "        empirical_score.append(accuracy_score(y[test], pred))\n",
    "        #true_score.append(accuracy_score(y, model.solve(X)))\n",
    "        \n",
    "    exp_data[run] = empirical_score # (empirical_score, true_score) \n",
    "        \n",
    "        "
   ]
  },
  {
   "cell_type": "code",
   "execution_count": 15,
   "id": "31d93331",
   "metadata": {},
   "outputs": [
    {
     "name": "stdout",
     "output_type": "stream",
     "text": [
      "{0: [0.945, 0.965, 0.965, 0.985, 0.99, 0.995, 0.985, 1.0, 0.995], 1: [0.985, 0.975, 0.99, 1.0, 0.995, 0.995, 1.0, 0.995, 1.0], 2: [0.97, 0.97, 0.99, 1.0, 0.99, 1.0, 1.0, 0.995, 0.995], 3: [0.955, 0.97, 0.995, 1.0, 1.0, 0.995, 0.99, 1.0, 0.995], 4: [0.995, 1.0, 1.0, 0.995, 0.99, 0.98, 0.98, 1.0, 1.0], 5: [0.99, 0.99, 0.995, 1.0, 0.995, 0.99, 1.0, 1.0, 0.985], 6: [0.945, 0.98, 0.99, 0.995, 1.0, 1.0, 0.995, 1.0, 1.0], 7: [0.985, 0.985, 0.995, 0.995, 0.995, 0.995, 0.99, 0.995, 1.0], 8: [0.97, 0.995, 0.985, 0.99, 0.99, 0.985, 0.995, 0.995, 1.0], 9: [0.975, 0.98, 0.99, 0.98, 0.985, 0.98, 1.0, 0.995, 1.0]}\n"
     ]
    }
   ],
   "source": [
    "print(exp_data)"
   ]
  },
  {
   "cell_type": "code",
   "execution_count": 17,
   "id": "ed411463",
   "metadata": {},
   "outputs": [
    {
     "data": {
      "text/plain": [
       "<AxesSubplot:>"
      ]
     },
     "execution_count": 17,
     "metadata": {},
     "output_type": "execute_result"
    },
    {
     "data": {
      "image/png": "[encoded data removed]",
      "text/plain": [
       "<Figure size 432x288 with 1 Axes>"
      ]
     },
     "metadata": {
      "needs_background": "light"
     },
     "output_type": "display_data"
    }
   ],
   "source": [
    "pd.DataFrame(exp_data).boxplot()"
   ]
  },
  {
   "cell_type": "code",
   "execution_count": 23,
   "id": "149d68c2",
   "metadata": {},
   "outputs": [
    {
     "data": {
      "text/plain": [
       "<AxesSubplot:>"
      ]
     },
     "execution_count": 23,
     "metadata": {},
     "output_type": "execute_result"
    },
    {
     "data": {
      "image/png": "[encoded data removed]",
      "text/plain": [
       "<Figure size 432x288 with 1 Axes>"
      ]
     },
     "metadata": {
      "needs_background": "light"
     },
     "output_type": "display_data"
    }
   ],
   "source": [
    "pd.DataFrame(exp_data).min().plot()"
   ]
  },
  {
   "cell_type": "code",
   "execution_count": null,
   "id": "236a4a0e",
   "metadata": {},
   "outputs": [],
   "source": []
  }
 ],
 "metadata": {
  "kernelspec": {
   "display_name": "Python 3 (ipykernel)",
   "language": "python",
   "name": "python3"
  },
  "language_info": {
   "codemirror_mode": {
    "name": "ipython",
    "version": 3
   },
   "file_extension": ".py",
   "mimetype": "text/x-python",
   "name": "python",
   "nbconvert_exporter": "python",
   "pygments_lexer": "ipython3",
   "version": "3.9.7"
  }
 },
 "nbformat": 4,
 "nbformat_minor": 5
}
