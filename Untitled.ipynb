{
 "cells": [
  {
   "cell_type": "code",
   "execution_count": 1,
   "id": "1ec8eff0",
   "metadata": {},
   "outputs": [],
   "source": [
    "import numpy as np\n",
    "import pandas as pd\n",
    "import Perceptron.perceptron as pn"
   ]
  },
  {
   "cell_type": "code",
   "execution_count": 5,
   "id": "dbac9dae",
   "metadata": {},
   "outputs": [],
   "source": [
    "gen = pn.PocketPerceptron(input=3) # No innate bias included!"
   ]
  },
  {
   "cell_type": "code",
   "execution_count": 6,
   "id": "2af61178",
   "metadata": {},
   "outputs": [],
   "source": [
    "gen.W = np.array([[3], [-2], [1]])"
   ]
  },
  {
   "cell_type": "code",
   "execution_count": 19,
   "id": "70f6fc2d",
   "metadata": {},
   "outputs": [
    {
     "data": {
      "text/plain": [
       "-1"
      ]
     },
     "execution_count": 19,
     "metadata": {},
     "output_type": "execute_result"
    }
   ],
   "source": [
    "gen.solve([1, 1, -10])"
   ]
  },
  {
   "cell_type": "code",
   "execution_count": 2,
   "id": "036e2ab2",
   "metadata": {},
   "outputs": [
    {
     "name": "stdout",
     "output_type": "stream",
     "text": [
      "Help on class PocketPerceptron in module Perceptron.perceptron:\n",
      "\n",
      "class PocketPerceptron(builtins.object)\n",
      " |  PocketPerceptron(input: int = 10, eta: float = 1, max_iter: int = 1000, rand_seed: int = 37)\n",
      " |  \n",
      " |  Learn using single-cell perceptron\n",
      " |  \n",
      " |  Functions:\n",
      " |  ----------\n",
      " |  \n",
      " |  solve:\n",
      " |  - Calculate perceptron inference.\n",
      " |  \n",
      " |  train:\n",
      " |  - Main training function implementing pocket algorithm.\n",
      " |  \n",
      " |  learn:\n",
      " |  - Implement core pocket algorithm.\n",
      " |  \n",
      " |  Methods defined here:\n",
      " |  \n",
      " |  __init__(self, input: int = 10, eta: float = 1, max_iter: int = 1000, rand_seed: int = 37)\n",
      " |      Create pocket-trained perceptron\n",
      " |      \n",
      " |      Following Gallant's theory, initialize a perceptron\n",
      " |      that shall be trained with the pocket algorithm. \n",
      " |      Unlike Gallant's, this algorithm picks random samp-\n",
      " |      les in each iteration without repetition.\n",
      " |      \n",
      " |      Parameters:\n",
      " |      -----------\n",
      " |      input\n",
      " |      - Number of inputs for perceptron \n",
      " |      \n",
      " |      eta\n",
      " |      - Learning rate for algorithm\n",
      " |      \n",
      " |      max_iter\n",
      " |      - Maximum number of iterations of pocket algorithm\n",
      " |      \n",
      " |      rand_seed\n",
      " |      - Random seed for random iterator.\n",
      " |  \n",
      " |  learn(self, X: <built-in function array>, y: <built-in function array>)\n",
      " |  \n",
      " |  solve(self, X) -> int\n",
      " |      Solve using pocket hypothesis\n",
      " |      \n",
      " |      Using the pocketed weights, the perceptron predicts\n",
      " |      using the stored hypothesis.\n",
      " |      \n",
      " |      Input\n",
      " |      -----\n",
      " |      X\n",
      " |      - Input data in 1xI shape, where I is the number of\n",
      " |        inputs.\n",
      " |      \n",
      " |      return\n",
      " |      ------\n",
      " |      Returns the linear combination's sign function\n",
      " |  \n",
      " |  train(self, X, y)\n",
      " |      Train Perceptron Model\n",
      " |  \n",
      " |  ----------------------------------------------------------------------\n",
      " |  Data descriptors defined here:\n",
      " |  \n",
      " |  __dict__\n",
      " |      dictionary for instance variables (if defined)\n",
      " |  \n",
      " |  __weakref__\n",
      " |      list of weak references to the object (if defined)\n",
      "\n"
     ]
    }
   ],
   "source": [
    "help(pn.PocketPerceptron)"
   ]
  },
  {
   "cell_type": "code",
   "execution_count": null,
   "id": "5ab30279",
   "metadata": {},
   "outputs": [],
   "source": []
  }
 ],
 "metadata": {
  "kernelspec": {
   "display_name": "Python 3 (ipykernel)",
   "language": "python",
   "name": "python3"
  },
  "language_info": {
   "codemirror_mode": {
    "name": "ipython",
    "version": 3
   },
   "file_extension": ".py",
   "mimetype": "text/x-python",
   "name": "python",
   "nbconvert_exporter": "python",
   "pygments_lexer": "ipython3",
   "version": "3.9.7"
  }
 },
 "nbformat": 4,
 "nbformat_minor": 5
}
